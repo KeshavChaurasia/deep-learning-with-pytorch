{
 "cells": [
  {
   "cell_type": "markdown",
   "id": "e965167a-b688-4a6c-8b09-e3142667cfe5",
   "metadata": {},
   "source": [
    "### Linear Regression"
   ]
  },
  {
   "cell_type": "code",
   "execution_count": 4,
   "id": "7e586142-0056-49e5-b3cd-4f9ad6a8ab84",
   "metadata": {},
   "outputs": [],
   "source": [
    "# import packages\n",
    "import torch\n",
    "import torch.nn as nn\n",
    "import numpy as np\n",
    "from sklearn import datasets\n",
    "import matplotlib.pyplot as plt\n",
    "\n",
    "# 0) Prepare Data\n",
    "# 1) model\n",
    "# 2) loss and optimizer\n",
    "# 3) training loop"
   ]
  },
  {
   "cell_type": "markdown",
   "id": "7f98b15a-7904-4df7-b47c-457ca307a72a",
   "metadata": {},
   "source": [
    "### preparing data"
   ]
  },
  {
   "cell_type": "code",
   "execution_count": 17,
   "id": "97df021e-699e-48d3-801b-54055bddf2e3",
   "metadata": {},
   "outputs": [],
   "source": [
    "X_numpy, y_numpy = datasets.make_regression(n_samples = 100, \n",
    "                                            n_features = 1, \n",
    "                                            noise = 20, \n",
    "                                            random_state=1)\n",
    "# converting to tensors\n",
    "X = torch.from_numpy(X_numpy.astype(np.float32))\n",
    "y = torch.from_numpy(y_numpy.astype(np.float32))\n",
    "\n",
    "# reshape\n",
    "X = X.reshape(-1,1)\n",
    "y = y.reshape(-1,1)\n",
    "\n",
    "# getting number of samples and number of features\n",
    "n_sampes, n_features = X.shape"
   ]
  },
  {
   "cell_type": "markdown",
   "id": "0f3c135f-b50b-4363-a161-ded7f5683dab",
   "metadata": {},
   "source": [
    "### model"
   ]
  },
  {
   "cell_type": "code",
   "execution_count": 18,
   "id": "ae08c4da-563f-4f19-a8fd-895d1ae91403",
   "metadata": {},
   "outputs": [],
   "source": [
    "input_size = n_features\n",
    "output_size = 1\n",
    "\n",
    "# defining our linear model with input and output size\n",
    "model = nn.Linear(input_size, output_size)"
   ]
  },
  {
   "cell_type": "markdown",
   "id": "3e3ed957-fdfc-4e92-9984-2507d00edc7f",
   "metadata": {},
   "source": [
    "### loss and optimizer"
   ]
  },
  {
   "cell_type": "code",
   "execution_count": 19,
   "id": "f531c2fa-24c0-4556-ab61-4db6d33dbe4e",
   "metadata": {},
   "outputs": [],
   "source": [
    "learning_rate = 0.01\n",
    "criterion = nn.MSELoss()\n",
    "optimizer = torch.optim.SGD(model.parameters(), lr = learning_rate)"
   ]
  },
  {
   "cell_type": "markdown",
   "id": "04fcbf37-2a85-406f-a917-39171489b2d7",
   "metadata": {},
   "source": [
    "### Training Loop"
   ]
  },
  {
   "cell_type": "code",
   "execution_count": 20,
   "id": "4404b47e-4ab1-4286-b0ae-63c61b297763",
   "metadata": {},
   "outputs": [
    {
     "name": "stdout",
     "output_type": "stream",
     "text": [
      "epoch: 10, loss = 4408.2383\n",
      "epoch: 20, loss = 3286.8516\n",
      "epoch: 30, loss = 2476.0037\n",
      "epoch: 40, loss = 1889.0457\n",
      "epoch: 50, loss = 1463.7175\n",
      "epoch: 60, loss = 1155.2172\n",
      "epoch: 70, loss = 931.2564\n",
      "epoch: 80, loss = 768.5360\n",
      "epoch: 90, loss = 650.2216\n",
      "epoch: 100, loss = 564.1353\n"
     ]
    },
    {
     "data": {
      "image/png": "[encoded data removed]",
      "text/plain": [
       "<Figure size 432x288 with 1 Axes>"
      ]
     },
     "metadata": {
      "needs_background": "light"
     },
     "output_type": "display_data"
    }
   ],
   "source": [
    "num_epochs = 100\n",
    "for epoch in range(num_epochs):\n",
    "    # forward pass and loss\n",
    "    y_predicted = model(X)\n",
    "    loss = criterion(y_predicted, y)\n",
    "    \n",
    "    # backward pass\n",
    "    loss.backward()\n",
    "    \n",
    "    #update\n",
    "    optimizer.step()\n",
    "    \n",
    "    # remove gradient accumulation\n",
    "    optimizer.zero_grad()\n",
    "    \n",
    "    if (epoch + 1)%10 == 0:\n",
    "        print(f'epoch: {epoch + 1}, loss = {loss.item():.4f}')\n",
    "\n",
    "# plot\n",
    "predicted = model(X).detach().numpy()\n",
    "plt.plot(X_numpy, y_numpy, 'ro')\n",
    "plt.plot(X_numpy, predicted, 'b')\n",
    "plt.show()"
   ]
  }
 ],
 "metadata": {
  "kernelspec": {
   "display_name": "Python 3",
   "language": "python",
   "name": "python3"
  },
  "language_info": {
   "codemirror_mode": {
    "name": "ipython",
    "version": 3
   },
   "file_extension": ".py",
   "mimetype": "text/x-python",
   "name": "python",
   "nbconvert_exporter": "python",
   "pygments_lexer": "ipython3",
   "version": "3.6.9"
  }
 },
 "nbformat": 4,
 "nbformat_minor": 5
}
