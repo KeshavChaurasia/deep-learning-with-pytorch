{
 "cells": [
  {
   "cell_type": "markdown",
   "id": "707ce69d-2164-4387-8b0b-1db30528b1a5",
   "metadata": {},
   "source": [
    "# CNN"
   ]
  },
  {
   "cell_type": "markdown",
   "id": "2fa5d32a-0e1a-45e9-a419-e54261631729",
   "metadata": {},
   "source": [
    "![CNN-example](./images/08-CNN-example.png)\n",
    "\n",
    "initial image is convoluted with filter and the filter moves slides incrementally over the whole image\n",
    "\n",
    "![max-pooling](./images/09-maxpooling-example.png)\n",
    "\n",
    "\n",
    "![](./images/10-cnn-model-diagram.png)"
   ]
  },
  {
   "cell_type": "code",
   "execution_count": 3,
   "id": "cbe33da8-9e35-4d06-9e7f-a1765df10413",
   "metadata": {},
   "outputs": [],
   "source": [
    "# import package\n",
    "import torch\n",
    "import torch.nn as nn\n",
    "import torch.nn.functional as F\n",
    "import torchvision\n",
    "import torchvision.transforms as transforms\n",
    "import matplotlib.pyplot as plt\n",
    "import numpy as np"
   ]
  },
  {
   "cell_type": "code",
   "execution_count": 4,
   "id": "844981ae-f858-453a-9369-01265e81bde5",
   "metadata": {},
   "outputs": [],
   "source": [
    "# device configuration\n",
    "device = torch.device('cuda' if torch.cuda.is_available() else 'cpu')"
   ]
  },
  {
   "cell_type": "code",
   "execution_count": 27,
   "id": "7918a862-2a68-42c9-85fa-a72ce0750bd7",
   "metadata": {},
   "outputs": [],
   "source": [
    "# hyper-parameters\n",
    "num_epochs = 4\n",
    "batch_size = 4\n",
    "learning_rate = 0.01"
   ]
  },
  {
   "cell_type": "code",
   "execution_count": 28,
   "id": "d54d2a09-f8de-4c96-9af2-dbc448a3a209",
   "metadata": {},
   "outputs": [],
   "source": [
    "# dataset as PIL Image images of range [0,1]\n",
    "# we tranform them to Tensors of normalized range [-1,1]\n",
    "\n",
    "transform = transforms.Compose([\n",
    "    transforms.ToTensor(),\n",
    "    transforms.Normalize((0.5, 0.5, 0.5), (0.5, 0.5, 0.5))\n",
    "])"
   ]
  },
  {
   "cell_type": "code",
   "execution_count": 29,
   "id": "a8da278d-3284-449c-8c04-d38e550a517f",
   "metadata": {},
   "outputs": [
    {
     "name": "stdout",
     "output_type": "stream",
     "text": [
      "Files already downloaded and verified\n",
      "Files already downloaded and verified\n"
     ]
    }
   ],
   "source": [
    "# create dataset and dataloader\n",
    "train_dataset = torchvision.datasets.CIFAR10(root='./datasets', \n",
    "                                             train=True, \n",
    "                                             download=True, \n",
    "                                             transform=transform)\n",
    "test_dataset = torchvision.datasets.CIFAR10(root='./datasets', \n",
    "                                             train=False, \n",
    "                                             download=True, \n",
    "                                             transform=transform)\n",
    "train_loader = torch.utils.data.DataLoader(train_dataset, batch_size=batch_size, shuffle=True)\n",
    "test_loader = torch.utils.data.DataLoader(test_dataset, batch_size=batch_size, shuffle=False)\n",
    "\n",
    "classes = ('plane','car','bird','cat','deer','dog','frog','horse','ship','truck')"
   ]
  },
  {
   "cell_type": "markdown",
   "id": "314d3642-097e-4736-a028-344db7185c9c",
   "metadata": {},
   "source": [
    "![](./images/11-conv-length.png)"
   ]
  },
  {
   "cell_type": "code",
   "execution_count": 30,
   "id": "6f385fa4-acdd-450b-9ce6-0184382dec38",
   "metadata": {},
   "outputs": [],
   "source": [
    "# implement conv net\n",
    "class ConvNet(nn.Module):\n",
    "    def __init__(self):\n",
    "        # input channel size, output channel size, kernel size\n",
    "        super(ConvNet, self).__init__()\n",
    "        self.conv1 = nn.Conv2d(3,6,5)\n",
    "        self.pool = nn.MaxPool2d(2,2)\n",
    "        self.conv2 = nn.Conv2d(6,16,5)\n",
    "        self.fc1 = nn.Linear(16*5*5, 120)\n",
    "        self.fc2 = nn.Linear(120, 84)\n",
    "        self.fc3 = nn.Linear(84, 10)\n",
    "    \n",
    "    def forward(self, x):\n",
    "        out = self.pool(F.relu(self.conv1(x)))\n",
    "        out = self.pool(F.relu(self.conv2(out)))\n",
    "        out = out.reshape(-1,16*5*5)\n",
    "        out = F.relu(self.fc1(out))\n",
    "        out = F.relu(self.fc2(out))\n",
    "        out = self.fc3(out)\n",
    "        return out"
   ]
  },
  {
   "cell_type": "code",
   "execution_count": 31,
   "id": "fbe5c760-7e7e-45d1-94b9-e88fb0a663af",
   "metadata": {},
   "outputs": [],
   "source": [
    "model = ConvNet().to(device)"
   ]
  },
  {
   "cell_type": "code",
   "execution_count": 32,
   "id": "d70011a2-a483-4f87-97a3-46fb4ab0a78e",
   "metadata": {},
   "outputs": [],
   "source": [
    "# loos\n",
    "criterion = nn.CrossEntropyLoss()\n",
    "optimizer = torch.optim.SGD(model.parameters(), lr =learning_rate)"
   ]
  },
  {
   "cell_type": "code",
   "execution_count": 33,
   "id": "6c051bd3-ec61-405a-b48f-4566a3c49519",
   "metadata": {},
   "outputs": [],
   "source": [
    "n_total_steps = len(train_loader)"
   ]
  },
  {
   "cell_type": "code",
   "execution_count": 34,
   "id": "6c6ea20f-b8de-4a97-b8ed-e73fbe4e59eb",
   "metadata": {},
   "outputs": [
    {
     "name": "stdout",
     "output_type": "stream",
     "text": [
      "epoch 1/4, step 2000/12500, loss 1.7137\n",
      "epoch 1/4, step 4000/12500, loss 0.6308\n",
      "epoch 1/4, step 6000/12500, loss 1.7495\n",
      "epoch 1/4, step 8000/12500, loss 2.1425\n",
      "epoch 1/4, step 10000/12500, loss 2.9309\n",
      "epoch 1/4, step 12000/12500, loss 2.1923\n",
      "epoch 2/4, step 2000/12500, loss 1.5516\n",
      "epoch 2/4, step 4000/12500, loss 1.3213\n",
      "epoch 2/4, step 6000/12500, loss 3.2398\n",
      "epoch 2/4, step 8000/12500, loss 1.1960\n",
      "epoch 2/4, step 10000/12500, loss 1.3733\n",
      "epoch 2/4, step 12000/12500, loss 0.7607\n",
      "epoch 3/4, step 2000/12500, loss 1.5053\n",
      "epoch 3/4, step 4000/12500, loss 3.8853\n",
      "epoch 3/4, step 6000/12500, loss 0.8180\n",
      "epoch 3/4, step 8000/12500, loss 1.3126\n",
      "epoch 3/4, step 10000/12500, loss 1.4498\n",
      "epoch 3/4, step 12000/12500, loss 1.1900\n",
      "epoch 4/4, step 2000/12500, loss 0.8247\n",
      "epoch 4/4, step 4000/12500, loss 1.1217\n",
      "epoch 4/4, step 6000/12500, loss 0.8251\n",
      "epoch 4/4, step 8000/12500, loss 0.8490\n",
      "epoch 4/4, step 10000/12500, loss 1.2841\n",
      "epoch 4/4, step 12000/12500, loss 1.5312\n",
      "finish training\n"
     ]
    }
   ],
   "source": [
    "for epoch in range(num_epochs):\n",
    "    for i, (images, labels) in enumerate(train_loader):\n",
    "        # origin shape = [4,3,32,32] = 4 3 1024\n",
    "        # input_layer = 3 input channel, 6 output channel, 5 kernel size\n",
    "        images = images.to(device)\n",
    "        labels = labels.to(device)\n",
    "        \n",
    "        # forward pass\n",
    "        outputs = model(images)\n",
    "        loss = criterion(outputs, labels)\n",
    "        \n",
    "        # backward and optimize\n",
    "        optimizer.zero_grad()\n",
    "        loss.backward()\n",
    "        optimizer.step()\n",
    "        \n",
    "        if (i+1)%2000 == 0:\n",
    "            print(f'epoch {epoch+1}/{num_epochs}, step {i+1}/{n_total_steps}, loss {loss.item():.4f}')\n",
    "\n",
    "print(\"finish training\")"
   ]
  },
  {
   "cell_type": "code",
   "execution_count": 35,
   "id": "29b3c8a2-e57d-4228-bfc8-12733670d3d6",
   "metadata": {},
   "outputs": [
    {
     "name": "stdout",
     "output_type": "stream",
     "text": [
      "accuracy = 10.02%\n"
     ]
    }
   ],
   "source": [
    "# test\n",
    "with torch.no_grad():\n",
    "    n_correct = 0\n",
    "    n_samples = 0\n",
    "    for images, labels in test_loader:\n",
    "        images = images.to(device)\n",
    "        labels = labels.to(device)\n",
    "        \n",
    "        output = model(images)\n",
    "\n",
    "        # value, index\n",
    "        _, predictions = torch.max(outputs, 1)\n",
    "        n_samples += labels.size(0)\n",
    "        n_correct += (predictions == labels).sum().item()\n",
    "\n",
    "    acc = 100.0 * n_correct / n_samples\n",
    "    \n",
    "    print(f'accuracy = {acc}%')"
   ]
  },
  {
   "cell_type": "code",
   "execution_count": null,
   "id": "1c5b8760-4e25-4a7a-946f-bb700cbf5afc",
   "metadata": {},
   "outputs": [],
   "source": []
  }
 ],
 "metadata": {
  "kernelspec": {
   "display_name": "Python 3",
   "language": "python",
   "name": "python3"
  },
  "language_info": {
   "codemirror_mode": {
    "name": "ipython",
    "version": 3
   },
   "file_extension": ".py",
   "mimetype": "text/x-python",
   "name": "python",
   "nbconvert_exporter": "python",
   "pygments_lexer": "ipython3",
   "version": "3.6.9"
  }
 },
 "nbformat": 4,
 "nbformat_minor": 5
}
