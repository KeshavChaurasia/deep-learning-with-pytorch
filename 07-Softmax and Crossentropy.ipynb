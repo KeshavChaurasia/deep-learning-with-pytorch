{
 "cells": [
  {
   "cell_type": "markdown",
   "id": "4455ec7f-4037-42f9-a4ca-9035e0a42c9a",
   "metadata": {},
   "source": [
    "# Softmax and Crossentropy\n",
    "\n",
    "![Softmax](./images/04-softmax.png)\n",
    "\n",
    "![Softmax-formula](./images/04-1-softmax-formula.png)"
   ]
  },
  {
   "cell_type": "code",
   "execution_count": 1,
   "id": "fbcee488-cd49-41f5-8681-bd20c4d89139",
   "metadata": {},
   "outputs": [],
   "source": [
    "import torch\n",
    "import torch.nn as nn\n",
    "import numpy as np"
   ]
  },
  {
   "cell_type": "code",
   "execution_count": 2,
   "id": "54726187-abbb-442a-80d4-fa838dcd01c4",
   "metadata": {},
   "outputs": [],
   "source": [
    "def softmax(x):\n",
    "    return np.exp(x) / np.sum(np.exp(x), axis = 0)"
   ]
  },
  {
   "cell_type": "code",
   "execution_count": 3,
   "id": "ee8c946d-5828-4db2-a681-47af6bffcae0",
   "metadata": {},
   "outputs": [
    {
     "name": "stdout",
     "output_type": "stream",
     "text": [
      "softmax numpy:  [0.4223188 0.4223188 0.1553624]\n"
     ]
    }
   ],
   "source": [
    "x = np.array([2.0, 2.0, 1.0])\n",
    "output = softmax(x)\n",
    "print('softmax numpy: ', output)"
   ]
  },
  {
   "cell_type": "code",
   "execution_count": 4,
   "id": "06e8b59b-8c3f-4fb2-b5ce-c78c21463302",
   "metadata": {},
   "outputs": [
    {
     "name": "stdout",
     "output_type": "stream",
     "text": [
      "softmax tensor:  [0.4223188 0.4223188 0.1553624]\n"
     ]
    }
   ],
   "source": [
    "x = torch.tensor([2.0, 2.0, 1.0])\n",
    "ouputs = torch.softmax(x, dim=0) #to compute along first axis\n",
    "print('softmax tensor: ', output)"
   ]
  },
  {
   "cell_type": "markdown",
   "id": "f085ab40-9c42-4048-a74c-b2812bc37cf5",
   "metadata": {},
   "source": [
    "## Crossentropy\n",
    "Cross-entropy loss, or log loss, measures the performance of a classification model whose output is a probability value between 0 and 1. Cross-entropy loss increases as the predicted probability diverges from the actual label.\n",
    "\n",
    "![crossentropy](./images/05-crossentropy.png)\n",
    "\n",
    "\n",
    "better our predictions, lower is our loss\n",
    "\n",
    "\n",
    "![crossentropy-example](./images/05-1-crossentropy-example.png)\n",
    "for cross-entropy we require one-hot encoding"
   ]
  },
  {
   "cell_type": "code",
   "execution_count": 5,
   "id": "10e2a45c-65c1-4d48-9e85-dd0e467ff34e",
   "metadata": {},
   "outputs": [],
   "source": [
    "import torch\n",
    "import torch.nn as nn\n",
    "import numpy as np"
   ]
  },
  {
   "cell_type": "code",
   "execution_count": 8,
   "id": "b25e740d-939b-441f-a8af-d6181cbfa5c1",
   "metadata": {},
   "outputs": [
    {
     "name": "stdout",
     "output_type": "stream",
     "text": [
      "loss1 numpy: 0.3567\n",
      "loss2 numpy: 2.3026\n"
     ]
    }
   ],
   "source": [
    "def cross_entropy(actual, predicted):\n",
    "    loss = -np.sum(actual * np.log(predicted))\n",
    "    return loss\n",
    "\n",
    "y = np.array([1,0,0]) # one hot encoded predictions\n",
    "\n",
    "y_pred_good = np.array([0.7, 0.2, 0.1])\n",
    "y_pred_bad = np.array([0.1, 0.3, 0.6])\n",
    "l1 = cross_entropy(y, y_pred_good)\n",
    "l2 = cross_entropy(y, y_pred_bad)\n",
    "\n",
    "\n",
    "print(f'loss1 numpy: {l1:.4f}')\n",
    "print(f'loss2 numpy: {l2:.4f}')\n"
   ]
  },
  {
   "cell_type": "code",
   "execution_count": 9,
   "id": "4c71d69f-42dd-4df2-99ba-bbd179ae9fc4",
   "metadata": {},
   "outputs": [],
   "source": [
    "# let's implement this in pytorh now"
   ]
  },
  {
   "cell_type": "code",
   "execution_count": 10,
   "id": "7193452b-ccad-4080-91bc-d1413d828fd1",
   "metadata": {},
   "outputs": [
    {
     "name": "stdout",
     "output_type": "stream",
     "text": [
      "loss1 numpy: 0.4170\n",
      "loss2 numpy: 1.8406\n"
     ]
    }
   ],
   "source": [
    "# pytorch --> crossentropy - logsoftmax + negative log likelihood\n",
    "# don't do one hot encoding\n",
    "\n",
    "loss = nn.CrossEntropyLoss()\n",
    "y = torch.tensor([0]) # not one hot 0 class is best\n",
    "\n",
    "#nsamples X nclasses = 1 X 3\n",
    "y_pred_good = torch.tensor([[2.0, 1.0, 0.1]]) # 0 has the heighest value\n",
    "y_pred_bad = torch.tensor([[0.5, 2.0, 0.3]]) # 1 has the highest value\n",
    "\n",
    "l1 = loss(y_pred_good, y)\n",
    "l2 = loss(y_pred_bad, y)\n",
    "\n",
    "print(f'loss1 numpy: {l1.item():.4f}')\n",
    "print(f'loss2 numpy: {l2.item():.4f}')\n",
    "\n"
   ]
  },
  {
   "cell_type": "code",
   "execution_count": 11,
   "id": "61af152f-4819-4031-a9d3-68870a876b4f",
   "metadata": {},
   "outputs": [],
   "source": [
    "# to get actual predictions"
   ]
  },
  {
   "cell_type": "code",
   "execution_count": 12,
   "id": "cd375b25-1b51-4737-963b-de6a668ac878",
   "metadata": {},
   "outputs": [
    {
     "name": "stdout",
     "output_type": "stream",
     "text": [
      "tensor([0])\n",
      "tensor([1])\n"
     ]
    }
   ],
   "source": [
    "_, predictions1 = torch.max(y_pred_good, 1) # along the 1first dimension\n",
    "_, predictions2 = torch.max(y_pred_bad, 1) # along the 1first dimension\n",
    "\n",
    "\n",
    "print(predictions1)\n",
    "print(predictions2)\n"
   ]
  },
  {
   "cell_type": "code",
   "execution_count": 13,
   "id": "6ec0e6c3-8e83-4b85-90a3-a0c174031c98",
   "metadata": {},
   "outputs": [
    {
     "name": "stdout",
     "output_type": "stream",
     "text": [
      "loss1 numpy: 0.3251\n",
      "loss2 numpy: 1.6110\n"
     ]
    }
   ],
   "source": [
    "# let's do for multiple y prediction value\n",
    "\n",
    "# pytorch --> crossentropy - logsoftmax + negative log likelihood\n",
    "# don't do one hot encoding\n",
    "\n",
    "loss = nn.CrossEntropyLoss()\n",
    "y = torch.tensor([2, 0, 1]) # not one hot 0 class is best\n",
    "\n",
    "#nsamples X nclasses = 3 X 3\n",
    "y_pred_good = torch.tensor([[0.1, 1.0, 2.1], [2.0, 1.0, 0.1], [1.0, 3.0, 0.1]]) # 0 has the heighest value\n",
    "y_pred_bad = torch.tensor([[2.1, 1.0, 0.3], [0.1, 1.0, 2.3], [0.1, 3.0, 0.1]]) # 1 has the highest value\n",
    "\n",
    "l1 = loss(y_pred_good, y)\n",
    "l2 = loss(y_pred_bad, y)\n",
    "\n",
    "print(f'loss1 numpy: {l1.item():.4f}')\n",
    "print(f'loss2 numpy: {l2.item():.4f}')\n",
    "\n"
   ]
  },
  {
   "cell_type": "code",
   "execution_count": 14,
   "id": "e49bbbde-3b00-447c-bdc1-2058bd39132e",
   "metadata": {},
   "outputs": [
    {
     "name": "stdout",
     "output_type": "stream",
     "text": [
      "tensor([2, 0, 1])\n",
      "tensor([0, 2, 1])\n"
     ]
    }
   ],
   "source": [
    "_, predictions1 = torch.max(y_pred_good, 1) # along the 1first dimension\n",
    "_, predictions2 = torch.max(y_pred_bad, 1) # along the 1first dimension\n",
    "\n",
    "\n",
    "print(predictions1)\n",
    "print(predictions2)\n"
   ]
  },
  {
   "cell_type": "markdown",
   "id": "617bf73f-891f-414d-b575-585b9d591d8f",
   "metadata": {},
   "source": [
    "![06-neural-net-with-softmax.png](./images/06-neural-net-with-softmax.png)\n"
   ]
  },
  {
   "cell_type": "code",
   "execution_count": 15,
   "id": "8b2fab5f-0152-45a8-9f5c-4ed15d7ad554",
   "metadata": {},
   "outputs": [],
   "source": [
    "# for multiclass classifications"
   ]
  },
  {
   "cell_type": "code",
   "execution_count": 17,
   "id": "8c9cbddb-8220-4b56-a976-1c2100955aa4",
   "metadata": {},
   "outputs": [],
   "source": [
    "import torch\n",
    "import torch.nn as nn\n",
    "\n",
    "# multiclass problem\n",
    "class MultiClassNeuralNet(nn.Module):\n",
    "    def __init__(self, input_size, hidden_size, num_classes):\n",
    "        super(MultiClassNeuralNet, self).__init__()\n",
    "        self.linear = nn.Linear(input_size, hidden_size)\n",
    "        self.relu = nn.ReLU()\n",
    "        self.linear2 = nn.Linear(hidden_size, num_classes)\n",
    "    \n",
    "    def forward(self,x):\n",
    "        out = self.linear1(x)\n",
    "        out = self.relu(out)\n",
    "        out = self.linear2(out)\n",
    "        # no softmax at the end\n",
    "        return out\n"
   ]
  },
  {
   "cell_type": "code",
   "execution_count": 18,
   "id": "d0316e8f-2916-4bea-af50-29e1da64c15d",
   "metadata": {},
   "outputs": [],
   "source": [
    "model = MultiClassNeuralNet(input_size = 28*28, hidden_size = 5, num_classes = 3)\n",
    "criterion = nn.CrossEntropyLoss() # applies softmax"
   ]
  },
  {
   "cell_type": "markdown",
   "id": "60d9137a-47d4-4f2b-8899-5cde7866a149",
   "metadata": {},
   "source": [
    "![07-neural-net-with-sigmoid.png](./images/07-neural-net-with-sigmoid.png)"
   ]
  },
  {
   "cell_type": "code",
   "execution_count": 23,
   "id": "72800dc1-f074-4a90-8cb1-febfb9821621",
   "metadata": {},
   "outputs": [],
   "source": [
    "import torch\n",
    "import torch.nn as nn\n",
    "\n",
    "# binaryclass problem\n",
    "class BinaryClassNeuralNet(nn.Module):\n",
    "    def __init__(self, input_size, hidden_size):\n",
    "        super(BinaryClassNeuralNet, self).__init__()\n",
    "        self.linear = nn.Linear(input_size, hidden_size)\n",
    "        self.relu = nn.ReLU()\n",
    "        self.linear2 = nn.Linear(hidden_size, 1)\n",
    "    \n",
    "    def forward(self,x):\n",
    "        out = self.linear1(x)\n",
    "        out = self.relu(out)\n",
    "        out = self.linear2(out)\n",
    "        # no softmax at the end\n",
    "        y_pred = torch.sigmoid(out)\n",
    "        return y_pred"
   ]
  },
  {
   "cell_type": "code",
   "execution_count": 24,
   "id": "7ac4b5e6-63db-4850-8a50-2300ced24d3c",
   "metadata": {},
   "outputs": [],
   "source": [
    "model = BinaryClassNeuralNet(input_size = 28*28, hidden_size = 5)\n",
    "criterion = nn.BCELoss() # applies softmax"
   ]
  },
  {
   "cell_type": "code",
   "execution_count": null,
   "id": "c30b2872-3611-4d9b-81bc-2ceb8c7a1b01",
   "metadata": {},
   "outputs": [],
   "source": []
  }
 ],
 "metadata": {
  "kernelspec": {
   "display_name": "Python 3",
   "language": "python",
   "name": "python3"
  },
  "language_info": {
   "codemirror_mode": {
    "name": "ipython",
    "version": 3
   },
   "file_extension": ".py",
   "mimetype": "text/x-python",
   "name": "python",
   "nbconvert_exporter": "python",
   "pygments_lexer": "ipython3",
   "version": "3.6.9"
  }
 },
 "nbformat": 4,
 "nbformat_minor": 5
}
