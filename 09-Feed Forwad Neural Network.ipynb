{
 "cells": [
  {
   "cell_type": "markdown",
   "id": "aedb5f29-01ad-4643-bf10-2f25ec2f599b",
   "metadata": {},
   "source": [
    "# Feed Forward Neural Network"
   ]
  },
  {
   "cell_type": "code",
   "execution_count": 1,
   "id": "ee242296-ad3c-41e4-9539-3597c444a0ca",
   "metadata": {},
   "outputs": [],
   "source": [
    "# MNIST\n",
    "# DataLoader, Transformation\n",
    "# Multilayer Neural Net, Activation function\n",
    "# Loss and Optimizer\n",
    "# Training Loop\n",
    "# Model Evaluation\n",
    "# GPU Support"
   ]
  },
  {
   "cell_type": "code",
   "execution_count": 2,
   "id": "f23c98b2-4d38-43ee-93a5-e5aca970266c",
   "metadata": {},
   "outputs": [],
   "source": [
    "# import required packages\n",
    "import torch\n",
    "import torch.nn as nn\n",
    "import torchvision\n",
    "import torchvision.transforms as transforms\n",
    "import matplotlib.pyplot as plt\n",
    "\n",
    "# device config\n",
    "device = torch.device('cuda' if torch.cuda.is_available() else 'cpu')"
   ]
  },
  {
   "cell_type": "code",
   "execution_count": 21,
   "id": "2db1f4c4-69d0-471e-a683-11a806b99fec",
   "metadata": {},
   "outputs": [],
   "source": [
    "# hyper parameters\n",
    "input_size = 784 # 28*28\n",
    "hidden_size = 100\n",
    "num_classes = 10\n",
    "num_epochs = 5\n",
    "batch_size = 100\n",
    "learning_rate = 0.001"
   ]
  },
  {
   "cell_type": "code",
   "execution_count": 7,
   "id": "ba0a1e0d-c9c4-4c98-bfac-aef22e5e3c88",
   "metadata": {},
   "outputs": [
    {
     "name": "stdout",
     "output_type": "stream",
     "text": [
      "Downloading http://yann.lecun.com/exdb/mnist/train-images-idx3-ubyte.gz\n",
      "Downloading http://yann.lecun.com/exdb/mnist/train-images-idx3-ubyte.gz to ./datasets/MNIST/raw/train-images-idx3-ubyte.gz\n"
     ]
    },
    {
     "name": "stderr",
     "output_type": "stream",
     "text": [
      "100.0%\n"
     ]
    },
    {
     "name": "stdout",
     "output_type": "stream",
     "text": [
      "Extracting ./datasets/MNIST/raw/train-images-idx3-ubyte.gz to ./datasets/MNIST/raw\n",
      "\n",
      "Downloading http://yann.lecun.com/exdb/mnist/train-labels-idx1-ubyte.gz\n",
      "Downloading http://yann.lecun.com/exdb/mnist/train-labels-idx1-ubyte.gz to ./datasets/MNIST/raw/train-labels-idx1-ubyte.gz\n"
     ]
    },
    {
     "name": "stderr",
     "output_type": "stream",
     "text": [
      "102.8%\n"
     ]
    },
    {
     "name": "stdout",
     "output_type": "stream",
     "text": [
      "Extracting ./datasets/MNIST/raw/train-labels-idx1-ubyte.gz to ./datasets/MNIST/raw\n",
      "\n",
      "Downloading http://yann.lecun.com/exdb/mnist/t10k-images-idx3-ubyte.gz\n",
      "Downloading http://yann.lecun.com/exdb/mnist/t10k-images-idx3-ubyte.gz to ./datasets/MNIST/raw/t10k-images-idx3-ubyte.gz\n"
     ]
    },
    {
     "name": "stderr",
     "output_type": "stream",
     "text": [
      "100.0%\n"
     ]
    },
    {
     "name": "stdout",
     "output_type": "stream",
     "text": [
      "Extracting ./datasets/MNIST/raw/t10k-images-idx3-ubyte.gz to ./datasets/MNIST/raw\n",
      "\n",
      "Downloading http://yann.lecun.com/exdb/mnist/t10k-labels-idx1-ubyte.gz\n",
      "Downloading http://yann.lecun.com/exdb/mnist/t10k-labels-idx1-ubyte.gz to ./datasets/MNIST/raw/t10k-labels-idx1-ubyte.gz\n"
     ]
    },
    {
     "name": "stderr",
     "output_type": "stream",
     "text": [
      "112.7%\n",
      "/home/keshavchaurasia/workspace/ml/pytorch_venv/lib/python3.6/site-packages/torchvision/datasets/mnist.py:502: UserWarning: The given NumPy array is not writeable, and PyTorch does not support non-writeable tensors. This means you can write to the underlying (supposedly non-writeable) NumPy array using the tensor. You may want to copy the array to protect its data or make it writeable before converting it to a tensor. This type of warning will be suppressed for the rest of this program. (Triggered internally at  /pytorch/torch/csrc/utils/tensor_numpy.cpp:143.)\n",
      "  return torch.from_numpy(parsed.astype(m[2], copy=False)).view(*s)\n"
     ]
    },
    {
     "name": "stdout",
     "output_type": "stream",
     "text": [
      "Extracting ./datasets/MNIST/raw/t10k-labels-idx1-ubyte.gz to ./datasets/MNIST/raw\n",
      "\n",
      "Processing...\n",
      "Done!\n"
     ]
    }
   ],
   "source": [
    "# MNISt\n",
    "train_dataset = torchvision.datasets.MNIST(root='./datasets', \n",
    "                                           train=True, \n",
    "                                           transform = transforms.ToTensor(), \n",
    "                                           download = True)\n",
    "\n",
    "test_dataset = torchvision.datasets.MNIST(root='./datasets', \n",
    "                                           train=False, \n",
    "                                           transform = transforms.ToTensor(), \n",
    "                                           download = True)"
   ]
  },
  {
   "cell_type": "code",
   "execution_count": 8,
   "id": "3cd24d2e-5772-4137-aa52-3a58b45337dd",
   "metadata": {},
   "outputs": [],
   "source": [
    "# creating a dataloader\n",
    "train_loader = torch.utils.data.DataLoader(dataset = train_dataset, batch_size = batch_size, shuffle=True)\n",
    "test_loader = torch.utils.data.DataLoader(dataset = test_dataset, batch_size = batch_size, shuffle=False)"
   ]
  },
  {
   "cell_type": "code",
   "execution_count": 10,
   "id": "f1d435e4-a9ff-46ef-8f5e-81ab4929425e",
   "metadata": {},
   "outputs": [
    {
     "name": "stdout",
     "output_type": "stream",
     "text": [
      "torch.Size([100, 1, 28, 28]) torch.Size([100])\n"
     ]
    }
   ],
   "source": [
    "# getting one example\n",
    "examples = iter(train_loader)\n",
    "samples, labels = examples.next()\n",
    "print(samples.shape, labels.shape)"
   ]
  },
  {
   "cell_type": "code",
   "execution_count": 11,
   "id": "1a9b6842-28db-4c7e-a4f0-fe2150ec14e3",
   "metadata": {},
   "outputs": [
    {
     "data": {
      "image/png": "[encoded data removed]",
      "text/plain": [
       "<Figure size 432x288 with 6 Axes>"
      ]
     },
     "metadata": {
      "needs_background": "light"
     },
     "output_type": "display_data"
    }
   ],
   "source": [
    "for i in range(6):\n",
    "    plt.subplot(2,3,i+1)\n",
    "    plt.imshow(samples[i][0], cmap='gray')\n",
    "plt.show()"
   ]
  },
  {
   "cell_type": "markdown",
   "id": "af262526-f1ca-4d2e-b284-cff2b895c4d9",
   "metadata": {},
   "source": [
    "## creating model"
   ]
  },
  {
   "cell_type": "code",
   "execution_count": 12,
   "id": "08dee997-b702-4b5f-9a12-2f66f78cc7ea",
   "metadata": {},
   "outputs": [],
   "source": [
    "class NeuralNet(nn.Module):\n",
    "    def __init__(self, input_size, hidden_size, num_classes):\n",
    "        super(NeuralNet, self).__init__()\n",
    "        self.l1 = nn.Linear(input_size, hidden_size)\n",
    "        self.relu = nn.ReLU()\n",
    "        self.l2 = nn.Linear(hidden_size, num_classes)\n",
    "    \n",
    "    def forward(self, x):\n",
    "        out = self.l1(x)\n",
    "        out = self.relu(out)\n",
    "        out = self.l2(out)\n",
    "        return out"
   ]
  },
  {
   "cell_type": "code",
   "execution_count": 13,
   "id": "4eeb3ffb-a208-4253-876b-e20d9579bec0",
   "metadata": {},
   "outputs": [],
   "source": [
    "model = NeuralNet(input_size, hidden_size, num_classes)"
   ]
  },
  {
   "cell_type": "code",
   "execution_count": 14,
   "id": "8e14629b-0cf4-40fd-aab6-6d27ac714411",
   "metadata": {},
   "outputs": [],
   "source": [
    "# loss and optimizer"
   ]
  },
  {
   "cell_type": "code",
   "execution_count": 15,
   "id": "d4409377-4de5-462c-8247-da813d7150e3",
   "metadata": {},
   "outputs": [],
   "source": [
    "criterion = nn.CrossEntropyLoss() # this will apply softmax for us\n",
    "optimizer = torch.optim.Adam(model.parameters(), lr=learning_rate)"
   ]
  },
  {
   "cell_type": "code",
   "execution_count": 22,
   "id": "6eb4b6d9-5fc1-4f7e-9b62-af5d1680be47",
   "metadata": {},
   "outputs": [
    {
     "name": "stdout",
     "output_type": "stream",
     "text": [
      "epoch 1/5, step 100 / 600, loss 0.1360\n",
      "epoch 1/5, step 200 / 600, loss 0.0416\n",
      "epoch 1/5, step 300 / 600, loss 0.2322\n",
      "epoch 1/5, step 400 / 600, loss 0.1977\n",
      "epoch 1/5, step 500 / 600, loss 0.0606\n",
      "epoch 1/5, step 600 / 600, loss 0.1366\n",
      "epoch 2/5, step 100 / 600, loss 0.0670\n",
      "epoch 2/5, step 200 / 600, loss 0.1461\n",
      "epoch 2/5, step 300 / 600, loss 0.1799\n",
      "epoch 2/5, step 400 / 600, loss 0.0661\n",
      "epoch 2/5, step 500 / 600, loss 0.0992\n",
      "epoch 2/5, step 600 / 600, loss 0.1074\n",
      "epoch 3/5, step 100 / 600, loss 0.0411\n",
      "epoch 3/5, step 200 / 600, loss 0.0421\n",
      "epoch 3/5, step 300 / 600, loss 0.1198\n",
      "epoch 3/5, step 400 / 600, loss 0.0411\n",
      "epoch 3/5, step 500 / 600, loss 0.0552\n",
      "epoch 3/5, step 600 / 600, loss 0.1473\n",
      "epoch 4/5, step 100 / 600, loss 0.0278\n",
      "epoch 4/5, step 200 / 600, loss 0.1064\n",
      "epoch 4/5, step 300 / 600, loss 0.0430\n",
      "epoch 4/5, step 400 / 600, loss 0.1010\n",
      "epoch 4/5, step 500 / 600, loss 0.0570\n",
      "epoch 4/5, step 600 / 600, loss 0.0387\n",
      "epoch 5/5, step 100 / 600, loss 0.0529\n",
      "epoch 5/5, step 200 / 600, loss 0.1081\n",
      "epoch 5/5, step 300 / 600, loss 0.0728\n",
      "epoch 5/5, step 400 / 600, loss 0.0737\n",
      "epoch 5/5, step 500 / 600, loss 0.0351\n",
      "epoch 5/5, step 600 / 600, loss 0.0770\n"
     ]
    }
   ],
   "source": [
    "# training_loooooop\n",
    "n_total_steps = len(train_loader)\n",
    "for epoch in range(num_epochs):\n",
    "    for i, (images, labels) in enumerate(train_loader):\n",
    "        # 100, 1, 28, 28\n",
    "        # 100, 784\n",
    "        images = images.reshape(-1, 28*28).to(device)\n",
    "        labels = labels.to(device)\n",
    "\n",
    "        # forward pass\n",
    "        outputs = model(images)\n",
    "        loss = criterion(outputs, labels)\n",
    "\n",
    "        # backwards\n",
    "        optimizer.zero_grad()\n",
    "        loss.backward()\n",
    "        optimizer.step()\n",
    "\n",
    "        if (i+1)%100 == 0:\n",
    "            print(f'epoch {epoch +1 }/{num_epochs}, step {i + 1} / {n_total_steps}, loss {loss.item():.4f}')\n",
    "        \n"
   ]
  },
  {
   "cell_type": "code",
   "execution_count": 24,
   "id": "f9a89900-0da7-458b-84da-61aa300c1569",
   "metadata": {},
   "outputs": [
    {
     "name": "stdout",
     "output_type": "stream",
     "text": [
      "accuracy = 10.1%\n"
     ]
    }
   ],
   "source": [
    "# test\n",
    "with torch.no_grad():\n",
    "    n_correct = 0\n",
    "    n_samples = 0\n",
    "    for images, labels in test_loader:\n",
    "        images = images.reshape(-1, 28*28).to(device)\n",
    "        labels = labels.to(device)\n",
    "        \n",
    "        output = model(images)\n",
    "\n",
    "        # value, index\n",
    "        _, predictions = torch.max(outputs, 1)\n",
    "        n_samples += labels.shape[0]\n",
    "        n_correct += (predictions == labels).sum().item()\n",
    "\n",
    "    acc = 100.0 * n_correct / n_samples\n",
    "    \n",
    "    print(f'accuracy = {acc}%')"
   ]
  },
  {
   "cell_type": "code",
   "execution_count": null,
   "id": "995d2fc1-c872-4514-895e-ee8c21795916",
   "metadata": {},
   "outputs": [],
   "source": []
  }
 ],
 "metadata": {
  "kernelspec": {
   "display_name": "Python 3",
   "language": "python",
   "name": "python3"
  },
  "language_info": {
   "codemirror_mode": {
    "name": "ipython",
    "version": 3
   },
   "file_extension": ".py",
   "mimetype": "text/x-python",
   "name": "python",
   "nbconvert_exporter": "python",
   "pygments_lexer": "ipython3",
   "version": "3.6.9"
  }
 },
 "nbformat": 4,
 "nbformat_minor": 5
}
