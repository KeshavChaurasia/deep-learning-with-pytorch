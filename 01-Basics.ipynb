{
 "cells": [
  {
   "cell_type": "markdown",
   "id": "a65fdebd-82f8-48fe-8544-e93c985206f7",
   "metadata": {},
   "source": [
    "# Pytorch Basics and Fundamentals"
   ]
  },
  {
   "cell_type": "code",
   "execution_count": 1,
   "id": "136f1fe7-c44c-425b-a2fb-98989bea14b3",
   "metadata": {},
   "outputs": [
    {
     "name": "stdout",
     "output_type": "stream",
     "text": [
      "1.8.1+cpu\n",
      "False\n"
     ]
    }
   ],
   "source": [
    "# importing pytorch\n",
    "import torch\n",
    "# checking version\n",
    "print(torch.__version__)\n",
    "# checking if cuda is available\n",
    "print(torch.cuda.is_available())"
   ]
  },
  {
   "cell_type": "markdown",
   "id": "d6ad1572-c6b0-4450-a029-9bd63bdd7efc",
   "metadata": {},
   "source": [
    "### Tensor Basics"
   ]
  },
  {
   "cell_type": "code",
   "execution_count": 2,
   "id": "4e7ab243-e54e-47cc-a828-08f96be21284",
   "metadata": {},
   "outputs": [
    {
     "data": {
      "text/plain": [
       "(tensor([2.1679e-36]),\n",
       " tensor([2.1681e-36, 4.5628e-41]),\n",
       " tensor([[2.1680e-36, 4.5628e-41],\n",
       "         [2.1680e-36, 4.5628e-41]]))"
      ]
     },
     "execution_count": 2,
     "metadata": {},
     "output_type": "execute_result"
    }
   ],
   "source": [
    "# let's create uninitialized tensors\n",
    "x = torch.empty(1) # creates scalar tensor with uninitialized value\n",
    "y = torch.empty(2) # creates a 1-d tensor with 2 items\n",
    "z = torch.empty(2,2) # creates a matrix of order 2 X 2\n",
    "x, y, z"
   ]
  },
  {
   "cell_type": "code",
   "execution_count": 3,
   "id": "8ab3ecf3-33c4-4d08-861a-715845ed922f",
   "metadata": {},
   "outputs": [
    {
     "data": {
      "text/plain": [
       "(tensor([0.0936]),\n",
       " tensor([0.7886, 0.9719, 0.0831]),\n",
       " tensor([[[0.8098, 0.5733, 0.5463, 0.8043],\n",
       "          [0.8922, 0.4024, 0.3917, 0.0103],\n",
       "          [0.6677, 0.7331, 0.0527, 0.3096]],\n",
       " \n",
       "         [[0.3559, 0.2101, 0.0282, 0.7960],\n",
       "          [0.3713, 0.5057, 0.8628, 0.4406],\n",
       "          [0.0462, 0.8363, 0.9178, 0.9018]]]))"
      ]
     },
     "execution_count": 3,
     "metadata": {},
     "output_type": "execute_result"
    }
   ],
   "source": [
    "# Let's create random tensors\n",
    "x = torch.rand(1) # creates  a scalar tensor with random value\n",
    "y = torch.rand(3) # creates a 1-D tensor with random value\n",
    "z = torch.rand(2, 3, 4) # creates a 3-D tensor with shape 2 X 3 X 4\n",
    "x, y, z"
   ]
  },
  {
   "cell_type": "code",
   "execution_count": 4,
   "id": "68243890-ccbe-4506-af41-cb7ed48d26d3",
   "metadata": {},
   "outputs": [
    {
     "name": "stdout",
     "output_type": "stream",
     "text": [
      "tensor([[0., 0.],\n",
      "        [0., 0.]])\n"
     ]
    }
   ],
   "source": [
    "# let's create tensor with all zeros\n",
    "x = torch.zeros(2,2) # creates a tensor with 2 X 2 zero matrix\n",
    "print(x)"
   ]
  },
  {
   "cell_type": "code",
   "execution_count": 5,
   "id": "8574be96-fefc-43aa-a118-1fe2f9d5632d",
   "metadata": {},
   "outputs": [
    {
     "name": "stdout",
     "output_type": "stream",
     "text": [
      "tensor([[[1., 1., 1.],\n",
      "         [1., 1., 1.]]])\n"
     ]
    }
   ],
   "source": [
    "# let's create tensor with all ones\n",
    "x = torch.ones(1,2,3) # creates a tensor with 1 X 2 X 3 shape\n",
    "print(x)"
   ]
  },
  {
   "cell_type": "code",
   "execution_count": 6,
   "id": "98e3827c-dbc6-4a25-904f-29cd924342b4",
   "metadata": {},
   "outputs": [
    {
     "name": "stdout",
     "output_type": "stream",
     "text": [
      "torch.float32\n"
     ]
    }
   ],
   "source": [
    "# we can check data type of values inside tensor\n",
    "print(x.dtype)"
   ]
  },
  {
   "cell_type": "code",
   "execution_count": 7,
   "id": "eb7d73e7-1015-474f-b122-9446e44dc410",
   "metadata": {},
   "outputs": [
    {
     "name": "stdout",
     "output_type": "stream",
     "text": [
      "tensor([[0.9921, 0.2044, 0.1462],\n",
      "        [0.8446, 0.3872, 0.0745]])\n"
     ]
    }
   ],
   "source": [
    "# we can provide data type while creating tensor\n",
    "x = torch.rand(2,3, dtype=torch.float32)\n",
    "print(x)"
   ]
  },
  {
   "cell_type": "code",
   "execution_count": 8,
   "id": "89b132fa-a85b-415d-bf20-e0e360f4806c",
   "metadata": {},
   "outputs": [
    {
     "name": "stdout",
     "output_type": "stream",
     "text": [
      "tensor([1., 2., 3.])\n"
     ]
    }
   ],
   "source": [
    "# we can create tensor from python list\n",
    "x = torch.tensor([1.0,2.0,3.0])\n",
    "print(x)"
   ]
  },
  {
   "cell_type": "markdown",
   "id": "1abf3fd1-72c2-4299-bba1-32de5feaedeb",
   "metadata": {},
   "source": [
    "## Tensor Operations"
   ]
  },
  {
   "cell_type": "code",
   "execution_count": 9,
   "id": "69da3bdb-6c3f-4443-acea-5878dad57ef0",
   "metadata": {},
   "outputs": [
    {
     "name": "stdout",
     "output_type": "stream",
     "text": [
      "tensor([[0.1202, 0.2123],\n",
      "        [0.7354, 0.4825]])\n",
      "tensor([[0.6444, 0.0565],\n",
      "        [0.2706, 0.7648]])\n"
     ]
    },
    {
     "data": {
      "text/plain": [
       "(tensor([[0.7646, 0.2687],\n",
       "         [1.0059, 1.2474]]),\n",
       " tensor([[-0.5242,  0.1558],\n",
       "         [ 0.4648, -0.2823]]),\n",
       " tensor([[0.0775, 0.0120],\n",
       "         [0.1990, 0.3691]]),\n",
       " tensor([[0.1865, 3.7602],\n",
       "         [2.7180, 0.6309]]),\n",
       " tensor([[0.2553, 0.9162],\n",
       "         [0.9202, 0.5727]]))"
      ]
     },
     "execution_count": 9,
     "metadata": {},
     "output_type": "execute_result"
    }
   ],
   "source": [
    "x = torch.rand(2,2)\n",
    "y = torch.rand(2,2)\n",
    "print(x)\n",
    "print(y)\n",
    "x + y, x - y, x * y, x / y, x ** y # element-wise operations in tensors using pytorch "
   ]
  },
  {
   "cell_type": "code",
   "execution_count": 10,
   "id": "3e951999-456a-4734-af16-9603db0d89bf",
   "metadata": {},
   "outputs": [
    {
     "data": {
      "text/plain": [
       "tensor([[0.7646, 0.2687],\n",
       "        [1.0059, 1.2474]])"
      ]
     },
     "execution_count": 10,
     "metadata": {},
     "output_type": "execute_result"
    }
   ],
   "source": [
    "# we can also do inplace operations as below\n",
    "y.add_(x)  # this is inplace operations"
   ]
  },
  {
   "cell_type": "code",
   "execution_count": 11,
   "id": "2c646a40-a03f-42c4-a4d5-9f2494fbb55a",
   "metadata": {},
   "outputs": [],
   "source": [
    "z = x - y\n",
    "z = torch.sub(x,y) # subtraction\n",
    "z = torch.mul(x,y) # multiplication\n",
    "z = torch.div(x,y) # division"
   ]
  },
  {
   "cell_type": "markdown",
   "id": "0cb082da-a81e-4a8a-adbb-56ad7b4a2f97",
   "metadata": {},
   "source": [
    "### Slicing and Dicing"
   ]
  },
  {
   "cell_type": "code",
   "execution_count": 12,
   "id": "d0cbb294-c7d2-4649-b093-75dbd233f568",
   "metadata": {},
   "outputs": [],
   "source": [
    "# pytorch tensors can be sliced and diced like we do in python"
   ]
  },
  {
   "cell_type": "code",
   "execution_count": 13,
   "id": "0396d810-94b2-4144-b985-cfae5d858d41",
   "metadata": {},
   "outputs": [
    {
     "name": "stdout",
     "output_type": "stream",
     "text": [
      "tensor([[0.8093, 0.3960, 0.2067],\n",
      "        [0.6688, 0.3893, 0.7853],\n",
      "        [0.6731, 0.2612, 0.6845],\n",
      "        [0.7880, 0.9713, 0.3054],\n",
      "        [0.7486, 0.2530, 0.5806]])\n",
      "tensor([0.6688, 0.3893, 0.7853])\n",
      "tensor(0.3893)\n"
     ]
    }
   ],
   "source": [
    "x = torch.rand((5,3), dtype=torch.float32)\n",
    "print(x)\n",
    "print(x[1, :]) # this will give me everything from second row till end (all columns selected)\n",
    "print(x[1][1]) # this will give me one value at 2nd row and 2nd column"
   ]
  },
  {
   "cell_type": "markdown",
   "id": "907d0c05-493c-498b-aa5d-a48bf0001b7b",
   "metadata": {},
   "source": [
    "### Reshaping"
   ]
  },
  {
   "cell_type": "code",
   "execution_count": 14,
   "id": "6ec0b4bd-eb07-4e65-9890-4af687f15aea",
   "metadata": {},
   "outputs": [
    {
     "name": "stdout",
     "output_type": "stream",
     "text": [
      "tensor([0.2568, 0.5926, 0.7623, 0.5663, 0.6511, 0.5495, 0.5028, 0.4700, 0.5850,\n",
      "        0.6629, 0.8817, 0.6449, 0.0474, 0.1722, 0.9978, 0.9290, 0.2973, 0.7462,\n",
      "        0.4549, 0.0275])\n",
      "torch.Size([20])\n"
     ]
    }
   ],
   "source": [
    "# let's create a random tensor of 1 dimension with 20 elements\n",
    "x = torch.rand((20,), dtype=torch.float32)\n",
    "print(x)\n",
    "print(x.shape) # check size of the tensor"
   ]
  },
  {
   "cell_type": "code",
   "execution_count": 15,
   "id": "c7b935a0-8de1-43a0-99c1-f635ce1b0cb0",
   "metadata": {},
   "outputs": [
    {
     "name": "stdout",
     "output_type": "stream",
     "text": [
      "tensor([[0.2568, 0.5926, 0.7623, 0.5663],\n",
      "        [0.6511, 0.5495, 0.5028, 0.4700],\n",
      "        [0.5850, 0.6629, 0.8817, 0.6449],\n",
      "        [0.0474, 0.1722, 0.9978, 0.9290],\n",
      "        [0.2973, 0.7462, 0.4549, 0.0275]])\n",
      "tensor([[0.2568, 0.5926, 0.7623, 0.5663, 0.6511],\n",
      "        [0.5495, 0.5028, 0.4700, 0.5850, 0.6629],\n",
      "        [0.8817, 0.6449, 0.0474, 0.1722, 0.9978],\n",
      "        [0.9290, 0.2973, 0.7462, 0.4549, 0.0275]])\n",
      "tensor([[0.2568, 0.5926, 0.7623, 0.5663],\n",
      "        [0.6511, 0.5495, 0.5028, 0.4700],\n",
      "        [0.5850, 0.6629, 0.8817, 0.6449],\n",
      "        [0.0474, 0.1722, 0.9978, 0.9290],\n",
      "        [0.2973, 0.7462, 0.4549, 0.0275]])\n",
      "tensor([[0.2568, 0.5926, 0.7623, 0.5663, 0.6511],\n",
      "        [0.5495, 0.5028, 0.4700, 0.5850, 0.6629],\n",
      "        [0.8817, 0.6449, 0.0474, 0.1722, 0.9978],\n",
      "        [0.9290, 0.2973, 0.7462, 0.4549, 0.0275]])\n"
     ]
    }
   ],
   "source": [
    "# let's reshape this to 5 X 4 shape\n",
    "print(x.reshape((5,4))) # of new shape 5 X 4\n",
    "print(x.reshape((4,5))) # of new shape 4 X 5\n",
    "print(x.reshape((-1,4))) # row is calculated automaticallye\n",
    "print(x.reshape((4,-1))) # column is calculated automatically"
   ]
  },
  {
   "cell_type": "code",
   "execution_count": 16,
   "id": "ee5fdab9-e677-430c-b9bc-aa0c4ee119b4",
   "metadata": {},
   "outputs": [
    {
     "name": "stdout",
     "output_type": "stream",
     "text": [
      "tensor([[0.5828, 0.5307, 0.5640, 0.9250],\n",
      "        [0.1986, 0.1017, 0.0312, 0.0629],\n",
      "        [0.0571, 0.1832, 0.8954, 0.6430],\n",
      "        [0.5508, 0.3677, 0.2865, 0.1033]])\n",
      "tensor([[-1.2179, -0.9530, -0.0465,  0.1031],\n",
      "        [ 1.2059,  0.6695,  0.2507, -0.0790],\n",
      "        [-1.5268,  1.6806, -0.8435,  1.1017],\n",
      "        [-0.9922,  0.7886,  1.0129, -0.5631]])\n"
     ]
    }
   ],
   "source": [
    "print(torch.rand(4,4)) # returns a tensor of 4X 4 with random numbers between 0 to 1 from uniform distribution\n",
    "print(torch.randn(4,4)) # returns a tensor fo 4 X 4 with random numbers from normal distribution with mean 0 and variance 1"
   ]
  },
  {
   "cell_type": "code",
   "execution_count": 21,
   "id": "560d8e1a-e0b2-4b29-9d59-500ecd47124f",
   "metadata": {},
   "outputs": [
    {
     "name": "stdout",
     "output_type": "stream",
     "text": [
      "tensor([[0.2568, 0.5926, 0.7623, 0.5663, 0.6511],\n",
      "        [0.5495, 0.5028, 0.4700, 0.5850, 0.6629],\n",
      "        [0.8817, 0.6449, 0.0474, 0.1722, 0.9978],\n",
      "        [0.9290, 0.2973, 0.7462, 0.4549, 0.0275]])\n"
     ]
    }
   ],
   "source": [
    "# we can also use view function in pytorch\n",
    "print(x.view(-1,5))"
   ]
  },
  {
   "cell_type": "markdown",
   "id": "5b7acfeb-89d8-4e1f-befb-19ad324193b1",
   "metadata": {},
   "source": [
    "### Tensorflow to numpy and viceversa"
   ]
  },
  {
   "cell_type": "code",
   "execution_count": 22,
   "id": "83314a0d-9f10-4627-a272-47f3fb6bdc46",
   "metadata": {},
   "outputs": [],
   "source": [
    "import torch\n",
    "import numpy as np"
   ]
  },
  {
   "cell_type": "code",
   "execution_count": 25,
   "id": "38756e7e-cd34-46c2-86ed-11997cc91fa9",
   "metadata": {},
   "outputs": [
    {
     "name": "stdout",
     "output_type": "stream",
     "text": [
      "tensor([1., 1., 1., 1., 1.])\n"
     ]
    }
   ],
   "source": [
    "# initialize torch array\n",
    "a = torch.ones(5)\n",
    "print(a)"
   ]
  },
  {
   "cell_type": "code",
   "execution_count": 26,
   "id": "bcda9e37-604a-4b28-b814-906af8c7c4fe",
   "metadata": {},
   "outputs": [
    {
     "name": "stdout",
     "output_type": "stream",
     "text": [
      "[1. 1. 1. 1. 1.]\n"
     ]
    }
   ],
   "source": [
    "# convert to numpy\n",
    "b = a.numpy()\n",
    "print(b)"
   ]
  },
  {
   "cell_type": "code",
   "execution_count": 31,
   "id": "e3c3aec6-bda7-4b13-a77f-2e1c568d0797",
   "metadata": {},
   "outputs": [
    {
     "name": "stdout",
     "output_type": "stream",
     "text": [
      "[1. 1. 1. 1. 1.]\n",
      "tensor([1., 1., 1., 1., 1.], dtype=torch.float64)\n",
      "[2. 2. 2. 2. 2.]\n",
      "tensor([2., 2., 2., 2., 2.], dtype=torch.float64)\n"
     ]
    }
   ],
   "source": [
    "a = np.ones(5)\n",
    "print(a)\n",
    "b = torch.from_numpy(a) # converting to tensor from numpy\n",
    "print(b)\n",
    "\n",
    "a += 1\n",
    "print(a)\n",
    "print(b)"
   ]
  },
  {
   "cell_type": "code",
   "execution_count": 32,
   "id": "76f03429-6049-4517-b2ab-97ddeca40860",
   "metadata": {},
   "outputs": [],
   "source": [
    "# setting GPU if available\n",
    "if torch.cuda.is_available():\n",
    "    device = torch.device(\"cuda\")\n",
    "    x = torch.ones(5, device=device)\n",
    "    y = torch.ones(5)\n",
    "    y = y.to(device)"
   ]
  },
  {
   "cell_type": "code",
   "execution_count": null,
   "id": "b6992f5e-9385-4d54-9075-037b8fc7db56",
   "metadata": {},
   "outputs": [],
   "source": []
  }
 ],
 "metadata": {
  "kernelspec": {
   "display_name": "Python 3",
   "language": "python",
   "name": "python3"
  },
  "language_info": {
   "codemirror_mode": {
    "name": "ipython",
    "version": 3
   },
   "file_extension": ".py",
   "mimetype": "text/x-python",
   "name": "python",
   "nbconvert_exporter": "python",
   "pygments_lexer": "ipython3",
   "version": "3.6.9"
  }
 },
 "nbformat": 4,
 "nbformat_minor": 5
}
