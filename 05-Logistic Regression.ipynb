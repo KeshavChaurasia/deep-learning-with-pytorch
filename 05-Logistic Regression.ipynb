{
 "cells": [
  {
   "cell_type": "markdown",
   "id": "53c2a5c1-0536-4296-bc28-9ac2e3728ed3",
   "metadata": {},
   "source": [
    "# Logistic Regression\n",
    "\n",
    "Logistic Regression is a classification algorithm, that is where the response variable is categorical. The idea of logistic regression is to find a relationship between features and probability of outcome.\n",
    "\n",
    "There are two types of logistic regression\n",
    "1. Binomial Regression\n",
    "2. Multinomial Regression"
   ]
  },
  {
   "cell_type": "code",
   "execution_count": 9,
   "id": "326914c9-7ac9-42bc-8891-348bf8a4b677",
   "metadata": {},
   "outputs": [],
   "source": [
    "# import packages\n",
    "import torch\n",
    "import torch.nn as nn\n",
    "import numpy as np\n",
    "from sklearn import datasets\n",
    "from sklearn.preprocessing import StandardScaler\n",
    "from sklearn.model_selection import train_test_split"
   ]
  },
  {
   "cell_type": "code",
   "execution_count": 10,
   "id": "c7830536-dd2d-4594-b679-d140fbcefbd3",
   "metadata": {},
   "outputs": [],
   "source": [
    "# Prepare thee data\n",
    "bc = datasets.load_breast_cancer()\n",
    "X,y = bc.data, bc.target\n",
    "\n",
    "n_samples, n_features = X.shape\n",
    "\n",
    "X_train, X_test, y_train, y_test = train_test_split(X, y, test_size = 0.2, random_state = 1234)"
   ]
  },
  {
   "cell_type": "code",
   "execution_count": 11,
   "id": "9b51b7ec-0c19-4bf3-93bb-a79adf9868a4",
   "metadata": {},
   "outputs": [],
   "source": [
    "# preprocessing\n",
    "sc = StandardScaler() # 0 mean and 1 variance\n",
    "X_train = sc.fit_transform(X_train)\n",
    "X_test = sc.transform(X_test)"
   ]
  },
  {
   "cell_type": "code",
   "execution_count": 12,
   "id": "0a943425-6bf1-491d-89c5-38fb25004a85",
   "metadata": {},
   "outputs": [],
   "source": [
    "# convert into torch tensors\n",
    "X_train = torch.from_numpy(X_train.astype(np.float32))\n",
    "X_test = torch.from_numpy(X_test.astype(np.float32))\n",
    "y_train = torch.from_numpy(y_train.astype(np.float32))\n",
    "y_test = torch.from_numpy(y_test.astype(np.float32))\n",
    "\n",
    "# reshape the data\n",
    "y_train = y_train.reshape(-1,1)\n",
    "y_test = y_test.reshape(-1,1)"
   ]
  },
  {
   "cell_type": "code",
   "execution_count": 13,
   "id": "41774513-8839-4c1c-895f-eb1e4834d534",
   "metadata": {},
   "outputs": [],
   "source": [
    "# creating a model\n",
    "# f = wx + b, sigmoid at the end\n",
    "\n",
    "class LogisticRegression(nn.Module):\n",
    "    def __init__(self, n_input_features):\n",
    "        super(LogisticRegression, self).__init__()\n",
    "        self.linear = nn.Linear(n_input_features, 1)\n",
    "        \n",
    "    def forward(self, x):\n",
    "        y_predicted = torch.sigmoid(self.linear(x))\n",
    "        return y_predicted\n",
    "\n",
    "model = LogisticRegression(n_features)"
   ]
  },
  {
   "cell_type": "code",
   "execution_count": 14,
   "id": "48de919a-616b-4518-ba03-a21d7528d60f",
   "metadata": {},
   "outputs": [],
   "source": [
    "# loss and optimizer\n",
    "criterion = nn.BCELoss()\n",
    "optimizer = torch.optim.SGD(model.parameters(), lr = 0.01)"
   ]
  },
  {
   "cell_type": "code",
   "execution_count": 15,
   "id": "b8b62760-fe46-4848-ba88-e0ea43651a17",
   "metadata": {},
   "outputs": [
    {
     "name": "stdout",
     "output_type": "stream",
     "text": [
      "epoch: 10, loss : 0.7467\n",
      "epoch: 20, loss : 0.5629\n",
      "epoch: 30, loss : 0.4592\n",
      "epoch: 40, loss : 0.3950\n",
      "epoch: 50, loss : 0.3512\n",
      "epoch: 60, loss : 0.3192\n",
      "epoch: 70, loss : 0.2946\n",
      "epoch: 80, loss : 0.2750\n",
      "epoch: 90, loss : 0.2590\n",
      "epoch: 100, loss : 0.2455\n",
      "accuracy =  0.9035\n"
     ]
    }
   ],
   "source": [
    "# training loop\n",
    "num_epochs = 100\n",
    "for epoch in range(num_epochs):\n",
    "    # forward pass\n",
    "    y_pred = model(X_train)\n",
    "    loss = criterion(y_pred, y_train)\n",
    "    \n",
    "    # backward pass\n",
    "    loss.backward()\n",
    "    \n",
    "    # updates\n",
    "    optimizer.step()\n",
    "    \n",
    "    # clear gradient accumulation\n",
    "    optimizer.zero_grad()\n",
    "    \n",
    "    if (epoch + 1) % 10 == 0:\n",
    "        print(f'epoch: {epoch + 1}, loss : {loss.item():.4f}')\n",
    "\n",
    "with torch.no_grad():\n",
    "    y_pred = model(X_test)\n",
    "    y_pred_cls = y_pred.round()\n",
    "    acc = y_pred_cls.eq(y_test).sum() / float(y_test.shape[0])\n",
    "    print(f'accuracy = {acc: .4f}')"
   ]
  },
  {
   "cell_type": "code",
   "execution_count": null,
   "id": "3ae31776-6122-4746-9065-2f596b722028",
   "metadata": {},
   "outputs": [],
   "source": []
  }
 ],
 "metadata": {
  "kernelspec": {
   "display_name": "Python 3",
   "language": "python",
   "name": "python3"
  },
  "language_info": {
   "codemirror_mode": {
    "name": "ipython",
    "version": 3
   },
   "file_extension": ".py",
   "mimetype": "text/x-python",
   "name": "python",
   "nbconvert_exporter": "python",
   "pygments_lexer": "ipython3",
   "version": "3.6.9"
  }
 },
 "nbformat": 4,
 "nbformat_minor": 5
}
