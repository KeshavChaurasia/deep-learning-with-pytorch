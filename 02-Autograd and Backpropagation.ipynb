{
 "cells": [
  {
   "cell_type": "markdown",
   "id": "f07a6a94-7688-43c5-84c3-1d4275aad4ca",
   "metadata": {},
   "source": [
    "### Autograd"
   ]
  },
  {
   "cell_type": "code",
   "execution_count": 8,
   "id": "f5a9a876-dfb5-4db7-95f8-ef8eb21e1d79",
   "metadata": {},
   "outputs": [
    {
     "name": "stdout",
     "output_type": "stream",
     "text": [
      "tensor([-1.2882, -0.1838], requires_grad=True)\n"
     ]
    }
   ],
   "source": [
    "import torch\n",
    "\n",
    "x = torch.randn(2, requires_grad=True)\n",
    "print(x)"
   ]
  },
  {
   "cell_type": "code",
   "execution_count": 9,
   "id": "35277afa-0ab8-4891-bfac-f4d3b9050647",
   "metadata": {},
   "outputs": [
    {
     "name": "stdout",
     "output_type": "stream",
     "text": [
      "tensor([0.7118, 1.8162], grad_fn=<AddBackward0>)\n"
     ]
    }
   ],
   "source": [
    "y = x+2 # this will create computational graph\n",
    "# for each operation there will be a node with inputs and outputs\n",
    "# first we do forward pass --> this will give y\n",
    "# and the for backward --> grad_fn dy/dx\n",
    "print(y)"
   ]
  },
  {
   "cell_type": "code",
   "execution_count": 10,
   "id": "8841c83f-0f0d-4ef7-b5b0-eda641df8b27",
   "metadata": {},
   "outputs": [
    {
     "name": "stdout",
     "output_type": "stream",
     "text": [
      "tensor([1.0132, 6.5972], grad_fn=<MulBackward0>)\n"
     ]
    }
   ],
   "source": [
    "z = y * y * 2\n",
    "print(z)"
   ]
  },
  {
   "cell_type": "code",
   "execution_count": 11,
   "id": "9af3649b-0b8c-4baf-9d8e-0b5323ef6a1e",
   "metadata": {},
   "outputs": [
    {
     "name": "stdout",
     "output_type": "stream",
     "text": [
      "tensor(3.8052, grad_fn=<MeanBackward0>)\n"
     ]
    }
   ],
   "source": [
    "z = z.mean()\n",
    "print(z)"
   ]
  },
  {
   "cell_type": "code",
   "execution_count": 12,
   "id": "90cab063-0bd5-46cd-b4d9-fb23f6bf664c",
   "metadata": {},
   "outputs": [
    {
     "name": "stdout",
     "output_type": "stream",
     "text": [
      "tensor([1.4235, 3.6324])\n"
     ]
    }
   ],
   "source": [
    "z.backward() #  this will then calculate gradients with respect to x\n",
    "print(x.grad)"
   ]
  },
  {
   "cell_type": "code",
   "execution_count": 19,
   "id": "12375d4a-4e50-41bd-bbec-6d5e9bbc9219",
   "metadata": {},
   "outputs": [
    {
     "name": "stdout",
     "output_type": "stream",
     "text": [
      "tensor([-2.], grad_fn=<AddBackward0>) tensor([-4.], grad_fn=<MulBackward0>) tensor([8.], grad_fn=<MulBackward0>)\n"
     ]
    }
   ],
   "source": [
    "# let's start with forward propagation\n",
    "import torch\n",
    "\n",
    "# initialized 4 scalar tensor\n",
    "a = torch.tensor([2.], requires_grad=True)\n",
    "b = torch.tensor([-4.], requires_grad=True)\n",
    "c = torch.tensor([-2.], requires_grad=True)\n",
    "d = torch.tensor([2.], requires_grad=True)\n",
    "\n",
    "# now we do further operations\n",
    "e = a + b\n",
    "f = c * d\n",
    "\n",
    "# further opertatin\n",
    "g = e * f\n",
    "\n",
    "# display the outputs of each steps\n",
    "print(e,f,g)"
   ]
  },
  {
   "cell_type": "code",
   "execution_count": 17,
   "id": "7bac51ef-c886-4a58-84c8-fa9d01ee2d67",
   "metadata": {},
   "outputs": [],
   "source": [
    "# during these operations, the code is converted to computational graphs\n",
    "# these computational graphs help to perform automatic differenations and calculate gradients for back propagation"
   ]
  },
  {
   "cell_type": "code",
   "execution_count": 20,
   "id": "61bdc013-e5d3-4378-bba1-dbe63f57440a",
   "metadata": {},
   "outputs": [
    {
     "name": "stdout",
     "output_type": "stream",
     "text": [
      "tensor([-4.])\n",
      "tensor([-4.])\n",
      "tensor([-4.])\n",
      "tensor([4.])\n"
     ]
    }
   ],
   "source": [
    "g.backward() # calculates backward propagationo gradients\n",
    "print(a.grad.data)\n",
    "print(b.grad.data)\n",
    "print(c.grad.data)\n",
    "print(d.grad.data)"
   ]
  },
  {
   "cell_type": "code",
   "execution_count": 21,
   "id": "e0113b3b-a546-414e-9d9d-fd9a3bbb3f23",
   "metadata": {},
   "outputs": [],
   "source": [
    "# to remove gradients and calculation of gradients \n",
    "# a.requires_grad_(False)\n",
    "# a.detach()\n",
    "# with torch.no_grad():\n",
    "    "
   ]
  },
  {
   "cell_type": "markdown",
   "id": "0329dfc4-4842-46f9-9aa9-7b4da0890dc2",
   "metadata": {},
   "source": [
    "### Gradient Accumulation"
   ]
  },
  {
   "cell_type": "code",
   "execution_count": 24,
   "id": "1943e231-baef-4aea-9aff-53e9a7c0a23d",
   "metadata": {},
   "outputs": [
    {
     "name": "stdout",
     "output_type": "stream",
     "text": [
      "tensor([3., 3., 3., 3.])\n",
      "tensor([6., 6., 6., 6.])\n"
     ]
    }
   ],
   "source": [
    "import torch\n",
    "weights = torch.ones(4, requires_grad=True)\n",
    "for epoch in range(2):\n",
    "    model_output = (weights*3).sum()\n",
    "    model_output.backward()\n",
    "    print(weights.grad)\n",
    "        "
   ]
  },
  {
   "cell_type": "code",
   "execution_count": 26,
   "id": "139e4a1b-84fe-4bb6-b665-c5d5c9935d27",
   "metadata": {},
   "outputs": [
    {
     "name": "stdout",
     "output_type": "stream",
     "text": [
      "tensor([3., 3., 3., 3.])\n",
      "tensor([3., 3., 3., 3.])\n"
     ]
    }
   ],
   "source": [
    "# to remove gradients accumulation\n",
    "import torch\n",
    "weights = torch.ones(4, requires_grad=True)\n",
    "for epoch in range(2):\n",
    "    model_output = (weights*3).sum()\n",
    "    model_output.backward()\n",
    "    print(weights.grad)\n",
    "    weights.grad.zero_() # clears gradients"
   ]
  },
  {
   "cell_type": "markdown",
   "id": "fe945032-f159-4c13-bf58-ced84bb183a3",
   "metadata": {},
   "source": [
    "### Backpropagations\n",
    "\n",
    "1. Forward Pass\n",
    "2. Compute Local Gradients\n",
    "3. Backward Pass --> compute d Loss / d Weights using the chain rule\n",
    "\n",
    "![Backpropagation example with linear regression algorithm](./images/01-backpropagation-tutorial-with-linear-regression.png)\n",
    "\n",
    "The process is to minimize d Loss / d weights\n",
    "![Backpropagation process](./images/02-backpropagation-process.png)\n",
    "\n",
    "#### Let's see an example and code for this\n",
    "\n",
    "![Backpropagation with numerical exampls](./images/03-backpropagation-with-numerical-example.png)"
   ]
  },
  {
   "cell_type": "code",
   "execution_count": 31,
   "id": "229ad6e7-e91b-4939-8685-71385e71ead1",
   "metadata": {},
   "outputs": [
    {
     "name": "stdout",
     "output_type": "stream",
     "text": [
      "tensor(1., grad_fn=<PowBackward0>)\n",
      "tensor(-2.)\n"
     ]
    }
   ],
   "source": [
    "import torch\n",
    "x = torch.tensor(1.0)\n",
    "y = torch.tensor(2.0)\n",
    "w = torch.tensor(1.0, requires_grad=True)\n",
    "\n",
    "# forward pass and compute the loss\n",
    "y_hat = w * x\n",
    "loss = (y_hat - y)**2\n",
    "\n",
    "print(loss)\n",
    "\n",
    "# backward pass\n",
    "loss.backward()\n",
    "print(w.grad) # dloss/dw\n",
    "\n",
    "## update our weights\n",
    "## next forward and backward pass"
   ]
  },
  {
   "cell_type": "code",
   "execution_count": null,
   "id": "26eed96a-c261-4cee-8b28-a4e33de249fb",
   "metadata": {},
   "outputs": [],
   "source": []
  }
 ],
 "metadata": {
  "kernelspec": {
   "display_name": "Python 3",
   "language": "python",
   "name": "python3"
  },
  "language_info": {
   "codemirror_mode": {
    "name": "ipython",
    "version": 3
   },
   "file_extension": ".py",
   "mimetype": "text/x-python",
   "name": "python",
   "nbconvert_exporter": "python",
   "pygments_lexer": "ipython3",
   "version": "3.6.9"
  }
 },
 "nbformat": 4,
 "nbformat_minor": 5
}
